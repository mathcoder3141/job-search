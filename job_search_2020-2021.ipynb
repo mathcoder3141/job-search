{
 "cells": [
  {
   "cell_type": "code",
   "execution_count": 1,
   "metadata": {},
   "outputs": [],
   "source": [
    "import pandas as pd\n",
    "from datetime import datetime\n",
    "from matplotlib import pyplot as plt, ticker as tick\n",
    "job_search = pd.read_csv('./job_search_2020-2021.csv')"
   ]
  },
  {
   "cell_type": "code",
   "execution_count": 2,
   "metadata": {},
   "outputs": [
    {
     "data": {
      "text/html": [
       "<div>\n",
       "<style scoped>\n",
       "    .dataframe tbody tr th:only-of-type {\n",
       "        vertical-align: middle;\n",
       "    }\n",
       "\n",
       "    .dataframe tbody tr th {\n",
       "        vertical-align: top;\n",
       "    }\n",
       "\n",
       "    .dataframe thead th {\n",
       "        text-align: right;\n",
       "    }\n",
       "</style>\n",
       "<table border=\"1\" class=\"dataframe\">\n",
       "  <thead>\n",
       "    <tr style=\"text-align: right;\">\n",
       "      <th></th>\n",
       "      <th>Company</th>\n",
       "      <th>Job Title</th>\n",
       "      <th>Unnamed: 2</th>\n",
       "      <th>Location</th>\n",
       "      <th>First Stage</th>\n",
       "      <th>Second Stage</th>\n",
       "      <th>Third Stage</th>\n",
       "      <th>Fourth Stage</th>\n",
       "      <th>References Handed</th>\n",
       "      <th>Date Applied</th>\n",
       "      <th>Notes</th>\n",
       "      <th>Updated At</th>\n",
       "      <th>Status</th>\n",
       "    </tr>\n",
       "  </thead>\n",
       "  <tbody>\n",
       "    <tr>\n",
       "      <th>0</th>\n",
       "      <td>Trade Coffee</td>\n",
       "      <td>Analytics Engineer</td>\n",
       "      <td>NaN</td>\n",
       "      <td>Remote</td>\n",
       "      <td>NaN</td>\n",
       "      <td>NaN</td>\n",
       "      <td>NaN</td>\n",
       "      <td>NaN</td>\n",
       "      <td>NaN</td>\n",
       "      <td>4/9/2021</td>\n",
       "      <td>NaN</td>\n",
       "      <td>NaN</td>\n",
       "      <td>NaN</td>\n",
       "    </tr>\n",
       "    <tr>\n",
       "      <th>1</th>\n",
       "      <td>Rakem</td>\n",
       "      <td>Data Analyst</td>\n",
       "      <td>NaN</td>\n",
       "      <td>Remote</td>\n",
       "      <td>Phone Screen</td>\n",
       "      <td>NaN</td>\n",
       "      <td>NaN</td>\n",
       "      <td>NaN</td>\n",
       "      <td>NaN</td>\n",
       "      <td>4/9/2021</td>\n",
       "      <td>NaN</td>\n",
       "      <td>NaN</td>\n",
       "      <td>NaN</td>\n",
       "    </tr>\n",
       "    <tr>\n",
       "      <th>2</th>\n",
       "      <td>Cielo Talent</td>\n",
       "      <td>Reporting Specialist</td>\n",
       "      <td>NaN</td>\n",
       "      <td>Remote</td>\n",
       "      <td>Phone Screen</td>\n",
       "      <td>NaN</td>\n",
       "      <td>NaN</td>\n",
       "      <td>NaN</td>\n",
       "      <td>NaN</td>\n",
       "      <td>4/7/2021</td>\n",
       "      <td>NaN</td>\n",
       "      <td>NaN</td>\n",
       "      <td>NaN</td>\n",
       "    </tr>\n",
       "    <tr>\n",
       "      <th>3</th>\n",
       "      <td>Crevoso</td>\n",
       "      <td>Business Intelligence Analyst</td>\n",
       "      <td>NaN</td>\n",
       "      <td>Remote</td>\n",
       "      <td>Phone Screen</td>\n",
       "      <td>NaN</td>\n",
       "      <td>NaN</td>\n",
       "      <td>NaN</td>\n",
       "      <td>NaN</td>\n",
       "      <td>4/6/2021</td>\n",
       "      <td>NaN</td>\n",
       "      <td>NaN</td>\n",
       "      <td>NaN</td>\n",
       "    </tr>\n",
       "    <tr>\n",
       "      <th>4</th>\n",
       "      <td>Carvana</td>\n",
       "      <td>Analyst, Inspection Strategy</td>\n",
       "      <td>NaN</td>\n",
       "      <td>Dallas</td>\n",
       "      <td>Phone Screen</td>\n",
       "      <td>NaN</td>\n",
       "      <td>NaN</td>\n",
       "      <td>NaN</td>\n",
       "      <td>NaN</td>\n",
       "      <td>3/31/2021</td>\n",
       "      <td>NaN</td>\n",
       "      <td>4/9/2021</td>\n",
       "      <td>NaN</td>\n",
       "    </tr>\n",
       "  </tbody>\n",
       "</table>\n",
       "</div>"
      ],
      "text/plain": [
       "        Company                      Job Title Unnamed: 2 Location  \\\n",
       "0  Trade Coffee             Analytics Engineer        NaN   Remote   \n",
       "1         Rakem                   Data Analyst        NaN   Remote   \n",
       "2  Cielo Talent           Reporting Specialist        NaN   Remote   \n",
       "3       Crevoso  Business Intelligence Analyst        NaN   Remote   \n",
       "4       Carvana   Analyst, Inspection Strategy        NaN   Dallas   \n",
       "\n",
       "    First Stage Second Stage Third Stage Fourth Stage References Handed  \\\n",
       "0           NaN          NaN         NaN          NaN               NaN   \n",
       "1  Phone Screen          NaN         NaN          NaN               NaN   \n",
       "2  Phone Screen          NaN         NaN          NaN               NaN   \n",
       "3  Phone Screen          NaN         NaN          NaN               NaN   \n",
       "4  Phone Screen          NaN         NaN          NaN               NaN   \n",
       "\n",
       "  Date Applied Notes Updated At Status  \n",
       "0     4/9/2021   NaN        NaN    NaN  \n",
       "1     4/9/2021   NaN        NaN    NaN  \n",
       "2     4/7/2021   NaN        NaN    NaN  \n",
       "3     4/6/2021   NaN        NaN    NaN  \n",
       "4    3/31/2021   NaN   4/9/2021    NaN  "
      ]
     },
     "execution_count": 2,
     "metadata": {},
     "output_type": "execute_result"
    }
   ],
   "source": [
    "job_search.head()"
   ]
  },
  {
   "cell_type": "markdown",
   "metadata": {},
   "source": [
    "## Data Clean"
   ]
  },
  {
   "cell_type": "code",
   "execution_count": 3,
   "metadata": {},
   "outputs": [],
   "source": [
    "# drop Notes, Updated At, Status. Not useful for analysis in state its in.\n",
    "\n",
    "job_search.drop(['Unnamed: 2', 'Notes', 'Updated At', 'Status'], axis = 1, inplace=True)\n",
    "stages = ['First Stage', 'Second Stage', 'Third Stage', 'Fourth Stage', 'References Handed']"
   ]
  },
  {
   "cell_type": "code",
   "execution_count": 4,
   "metadata": {},
   "outputs": [],
   "source": [
    "import numpy as np\n",
    "# fill text cells with 1 in stages col\n",
    "for stage in stages:\n",
    "    job_search[stage].where(job_search[stage].isnull(), 1, inplace=True)\n",
    "# fill NaN with 0 in stages cols\n",
    "job_search[stages] = job_search[stages].fillna(0)\n",
    "job_search['Date Applied'] = pd.to_datetime(job_search['Date Applied'], infer_datetime_format=True)\n",
    "clean_search = job_search"
   ]
  },
  {
   "cell_type": "code",
   "execution_count": 5,
   "metadata": {},
   "outputs": [
    {
     "data": {
      "text/html": [
       "<div>\n",
       "<style scoped>\n",
       "    .dataframe tbody tr th:only-of-type {\n",
       "        vertical-align: middle;\n",
       "    }\n",
       "\n",
       "    .dataframe tbody tr th {\n",
       "        vertical-align: top;\n",
       "    }\n",
       "\n",
       "    .dataframe thead th {\n",
       "        text-align: right;\n",
       "    }\n",
       "</style>\n",
       "<table border=\"1\" class=\"dataframe\">\n",
       "  <thead>\n",
       "    <tr style=\"text-align: right;\">\n",
       "      <th></th>\n",
       "      <th>Company</th>\n",
       "      <th>Job Title</th>\n",
       "      <th>Location</th>\n",
       "      <th>First Stage</th>\n",
       "      <th>Second Stage</th>\n",
       "      <th>Third Stage</th>\n",
       "      <th>Fourth Stage</th>\n",
       "      <th>References Handed</th>\n",
       "      <th>Date Applied</th>\n",
       "    </tr>\n",
       "  </thead>\n",
       "  <tbody>\n",
       "    <tr>\n",
       "      <th>0</th>\n",
       "      <td>Trade Coffee</td>\n",
       "      <td>Analytics Engineer</td>\n",
       "      <td>Remote</td>\n",
       "      <td>0</td>\n",
       "      <td>0</td>\n",
       "      <td>0</td>\n",
       "      <td>0</td>\n",
       "      <td>0</td>\n",
       "      <td>2021-04-09</td>\n",
       "    </tr>\n",
       "    <tr>\n",
       "      <th>1</th>\n",
       "      <td>Rakem</td>\n",
       "      <td>Data Analyst</td>\n",
       "      <td>Remote</td>\n",
       "      <td>1</td>\n",
       "      <td>0</td>\n",
       "      <td>0</td>\n",
       "      <td>0</td>\n",
       "      <td>0</td>\n",
       "      <td>2021-04-09</td>\n",
       "    </tr>\n",
       "    <tr>\n",
       "      <th>2</th>\n",
       "      <td>Cielo Talent</td>\n",
       "      <td>Reporting Specialist</td>\n",
       "      <td>Remote</td>\n",
       "      <td>1</td>\n",
       "      <td>0</td>\n",
       "      <td>0</td>\n",
       "      <td>0</td>\n",
       "      <td>0</td>\n",
       "      <td>2021-04-07</td>\n",
       "    </tr>\n",
       "    <tr>\n",
       "      <th>3</th>\n",
       "      <td>Crevoso</td>\n",
       "      <td>Business Intelligence Analyst</td>\n",
       "      <td>Remote</td>\n",
       "      <td>1</td>\n",
       "      <td>0</td>\n",
       "      <td>0</td>\n",
       "      <td>0</td>\n",
       "      <td>0</td>\n",
       "      <td>2021-04-06</td>\n",
       "    </tr>\n",
       "    <tr>\n",
       "      <th>4</th>\n",
       "      <td>Carvana</td>\n",
       "      <td>Analyst, Inspection Strategy</td>\n",
       "      <td>Dallas</td>\n",
       "      <td>1</td>\n",
       "      <td>0</td>\n",
       "      <td>0</td>\n",
       "      <td>0</td>\n",
       "      <td>0</td>\n",
       "      <td>2021-03-31</td>\n",
       "    </tr>\n",
       "    <tr>\n",
       "      <th>...</th>\n",
       "      <td>...</td>\n",
       "      <td>...</td>\n",
       "      <td>...</td>\n",
       "      <td>...</td>\n",
       "      <td>...</td>\n",
       "      <td>...</td>\n",
       "      <td>...</td>\n",
       "      <td>...</td>\n",
       "      <td>...</td>\n",
       "    </tr>\n",
       "    <tr>\n",
       "      <th>348</th>\n",
       "      <td>CircleCI</td>\n",
       "      <td>Data Analyst for Product Growth</td>\n",
       "      <td>Remote</td>\n",
       "      <td>0</td>\n",
       "      <td>0</td>\n",
       "      <td>0</td>\n",
       "      <td>0</td>\n",
       "      <td>0</td>\n",
       "      <td>2020-03-30</td>\n",
       "    </tr>\n",
       "    <tr>\n",
       "      <th>349</th>\n",
       "      <td>The Richards Group</td>\n",
       "      <td>Intelligence Data Analyst</td>\n",
       "      <td>Dallas</td>\n",
       "      <td>0</td>\n",
       "      <td>0</td>\n",
       "      <td>0</td>\n",
       "      <td>0</td>\n",
       "      <td>0</td>\n",
       "      <td>2020-03-28</td>\n",
       "    </tr>\n",
       "    <tr>\n",
       "      <th>350</th>\n",
       "      <td>Bluecore</td>\n",
       "      <td>Data Insights Analyst</td>\n",
       "      <td>New York City</td>\n",
       "      <td>0</td>\n",
       "      <td>0</td>\n",
       "      <td>0</td>\n",
       "      <td>0</td>\n",
       "      <td>0</td>\n",
       "      <td>2020-03-28</td>\n",
       "    </tr>\n",
       "    <tr>\n",
       "      <th>351</th>\n",
       "      <td>Intricately</td>\n",
       "      <td>Business Data Analyst</td>\n",
       "      <td>Remote</td>\n",
       "      <td>0</td>\n",
       "      <td>0</td>\n",
       "      <td>0</td>\n",
       "      <td>0</td>\n",
       "      <td>0</td>\n",
       "      <td>2020-03-23</td>\n",
       "    </tr>\n",
       "    <tr>\n",
       "      <th>352</th>\n",
       "      <td>UT Southwestern</td>\n",
       "      <td>Population Science Data Analyst I, II, III</td>\n",
       "      <td>Dallas</td>\n",
       "      <td>0</td>\n",
       "      <td>0</td>\n",
       "      <td>0</td>\n",
       "      <td>0</td>\n",
       "      <td>0</td>\n",
       "      <td>2020-03-23</td>\n",
       "    </tr>\n",
       "  </tbody>\n",
       "</table>\n",
       "<p>353 rows × 9 columns</p>\n",
       "</div>"
      ],
      "text/plain": [
       "                Company                                   Job Title  \\\n",
       "0          Trade Coffee                          Analytics Engineer   \n",
       "1                 Rakem                                Data Analyst   \n",
       "2          Cielo Talent                        Reporting Specialist   \n",
       "3               Crevoso               Business Intelligence Analyst   \n",
       "4               Carvana                Analyst, Inspection Strategy   \n",
       "..                  ...                                         ...   \n",
       "348            CircleCI             Data Analyst for Product Growth   \n",
       "349  The Richards Group                   Intelligence Data Analyst   \n",
       "350            Bluecore                       Data Insights Analyst   \n",
       "351         Intricately                       Business Data Analyst   \n",
       "352     UT Southwestern  Population Science Data Analyst I, II, III   \n",
       "\n",
       "          Location  First Stage  Second Stage  Third Stage  Fourth Stage  \\\n",
       "0           Remote            0             0            0             0   \n",
       "1           Remote            1             0            0             0   \n",
       "2           Remote            1             0            0             0   \n",
       "3           Remote            1             0            0             0   \n",
       "4           Dallas            1             0            0             0   \n",
       "..             ...          ...           ...          ...           ...   \n",
       "348         Remote            0             0            0             0   \n",
       "349         Dallas            0             0            0             0   \n",
       "350  New York City            0             0            0             0   \n",
       "351         Remote            0             0            0             0   \n",
       "352         Dallas            0             0            0             0   \n",
       "\n",
       "     References Handed Date Applied  \n",
       "0                    0   2021-04-09  \n",
       "1                    0   2021-04-09  \n",
       "2                    0   2021-04-07  \n",
       "3                    0   2021-04-06  \n",
       "4                    0   2021-03-31  \n",
       "..                 ...          ...  \n",
       "348                  0   2020-03-30  \n",
       "349                  0   2020-03-28  \n",
       "350                  0   2020-03-28  \n",
       "351                  0   2020-03-23  \n",
       "352                  0   2020-03-23  \n",
       "\n",
       "[353 rows x 9 columns]"
      ]
     },
     "execution_count": 5,
     "metadata": {},
     "output_type": "execute_result"
    }
   ],
   "source": [
    "clean_search"
   ]
  },
  {
   "cell_type": "code",
   "execution_count": 6,
   "metadata": {},
   "outputs": [],
   "source": [
    "clean_search[\"Month_Year Applied\"] = clean_search[\"Date Applied\"].dt.to_period('M')"
   ]
  },
  {
   "cell_type": "code",
   "execution_count": 7,
   "metadata": {},
   "outputs": [
    {
     "data": {
      "image/png": "[encoded data removed]",
      "text/plain": [
       "<Figure size 576x396 with 1 Axes>"
      ]
     },
     "metadata": {},
     "output_type": "display_data"
    }
   ],
   "source": [
    "month_year = pd.DataFrame(clean_search[\"Month_Year Applied\"].value_counts())\n",
    "month_year.rename(columns={\"Month_Year Applied\" : 'Applications'}, inplace=True)\n",
    "month_year.index = month_year.index.to_timestamp()\n",
    "with plt.style.context('seaborn'):\n",
    "    month_year.plot(grid=False, legend=False)\n",
    "    plt.title(\"Applications Over Time\")\n",
    "    plt.xlabel(\"Year-Month\")\n",
    "    plt.ylabel(\"Applications\")"
   ]
  },
  {
   "cell_type": "markdown",
   "metadata": {},
   "source": [
    "## Visualization of \"Funnel\""
   ]
  },
  {
   "cell_type": "code",
   "execution_count": 8,
   "metadata": {},
   "outputs": [
    {
     "data": {
      "image/png": "[encoded data removed]",
      "text/plain": [
       "<Figure size 576x396 with 1 Axes>"
      ]
     },
     "metadata": {},
     "output_type": "display_data"
    }
   ],
   "source": [
    "applications = clean_search.shape[0]\n",
    "stage_count = []\n",
    "stage_percent = []\n",
    "for stage in stages:\n",
    "    count = clean_search[stage].sum()\n",
    "    percent = round((count / applications) * 100, 2) \n",
    "    stage_count.append(count)\n",
    "    stage_percent.append(percent)\n",
    "\n",
    "funnel = pd.DataFrame(columns=stages, data=[stage_count, stage_percent]).T\n",
    "funnel.rename(columns={0: 'Applications', 1: 'Percent'}, inplace=True)\n",
    "with plt.style.context('seaborn'):\n",
    "    plt.title(\"Application Funnel\")\n",
    "    plt.xlabel(\"Interview Stage\")\n",
    "    plt.ylabel(\"Percent\")\n",
    "    funnel_plot = funnel['Percent'].plot(kind='bar', grid=False)\n",
    "    funnel_plot.yaxis.set_major_formatter(tick.PercentFormatter())"
   ]
  },
  {
   "cell_type": "markdown",
   "metadata": {},
   "source": [
    "## Length of Unemployment"
   ]
  },
  {
   "cell_type": "code",
   "execution_count": 9,
   "metadata": {},
   "outputs": [
    {
     "data": {
      "text/plain": [
       "388"
      ]
     },
     "execution_count": 9,
     "metadata": {},
     "output_type": "execute_result"
    }
   ],
   "source": [
    "unemployment_date = datetime(year = 2020, month = 3, day = 17)\n",
    "offer_date = datetime(year = 2021, month = 4, day = 9)\n",
    "funemployment = offer_date - unemployment_date\n",
    "\n",
    "funemployment.days"
   ]
  },
  {
   "cell_type": "markdown",
   "metadata": {},
   "source": [
    "## Applications per day"
   ]
  },
  {
   "cell_type": "code",
   "execution_count": 10,
   "metadata": {},
   "outputs": [
    {
     "data": {
      "text/plain": [
       "1.0821529745042493"
      ]
     },
     "execution_count": 10,
     "metadata": {},
     "output_type": "execute_result"
    }
   ],
   "source": [
    "job_search_length = clean_search['Date Applied'].max() - clean_search['Date Applied'].min()\n",
    "job_search_length = job_search_length.days\n",
    "\n",
    "apd = job_search_length / applications\n",
    "\n",
    "apd"
   ]
  },
  {
   "cell_type": "markdown",
   "metadata": {},
   "source": [
    "## Any Days I didn't apply at all? If so, how many?"
   ]
  },
  {
   "cell_type": "code",
   "execution_count": 11,
   "metadata": {},
   "outputs": [],
   "source": [
    "first_application_date = job_search['Date Applied'].min()\n",
    "last_application_date = job_search['Date Applied'].max()\n",
    "search_duration = pd.date_range(start=unemployment_date, end=last_application_date, closed = 'right').date.tolist()\n",
    "applied_list = [day.date() for day in set(clean_search[\"Date Applied\"].tolist())]"
   ]
  },
  {
   "cell_type": "code",
   "execution_count": 12,
   "metadata": {},
   "outputs": [],
   "source": [
    "no_apply = [day for day in search_duration if day not in applied_list]"
   ]
  },
  {
   "cell_type": "code",
   "execution_count": 13,
   "metadata": {},
   "outputs": [
    {
     "data": {
      "text/plain": [
       "249"
      ]
     },
     "execution_count": 13,
     "metadata": {},
     "output_type": "execute_result"
    }
   ],
   "source": [
    "len(no_apply)"
   ]
  },
  {
   "cell_type": "markdown",
   "metadata": {},
   "source": [
    "## Locations of positions applied to"
   ]
  },
  {
   "cell_type": "code",
   "execution_count": 14,
   "metadata": {},
   "outputs": [
    {
     "data": {
      "image/png": "[encoded data removed]",
      "text/plain": [
       "<Figure size 576x396 with 1 Axes>"
      ]
     },
     "metadata": {},
     "output_type": "display_data"
    }
   ],
   "source": [
    "with plt.style.context('seaborn'):\n",
    "    plt.title(\"Top 10 Locations\")\n",
    "    plt.xlabel(\"Location\")\n",
    "    plt.ylabel(\"Applications\")\n",
    "    clean_search['Location'].value_counts().nlargest(10).plot(kind='bar',\n",
    "                                                              grid=False)"
   ]
  },
  {
   "cell_type": "markdown",
   "metadata": {},
   "source": [
    "## Kinds of positions applied to"
   ]
  },
  {
   "cell_type": "code",
   "execution_count": 15,
   "metadata": {},
   "outputs": [
    {
     "data": {
      "image/png": "[encoded data removed]",
      "text/plain": [
       "<Figure size 576x396 with 1 Axes>"
      ]
     },
     "metadata": {},
     "output_type": "display_data"
    }
   ],
   "source": [
    "with plt.style.context('seaborn'):\n",
    "    plt.title(\"Top 10 Jobs Applied To\")\n",
    "    plt.xlabel(\"Position\")\n",
    "    plt.ylabel(\"Applications\")\n",
    "    clean_search['Job Title'].value_counts().nlargest(10).plot(kind='bar',\n",
    "                                                              grid=False)"
   ]
  },
  {
   "cell_type": "markdown",
   "metadata": {},
   "source": [
    "## Companies applied to more than once "
   ]
  },
  {
   "cell_type": "code",
   "execution_count": 16,
   "metadata": {},
   "outputs": [
    {
     "data": {
      "text/plain": [
       "RealPage                     6\n",
       "Drizly                       3\n",
       "Mr. Cooper                   3\n",
       "Doximity                     3\n",
       "PepsiCo                      3\n",
       "Uplight                      3\n",
       "Nerdwallet                   3\n",
       "Cottonwood Financial         3\n",
       "Evernote                     2\n",
       "Boss Flight Entertainment    2\n",
       "Name: Company, dtype: int64"
      ]
     },
     "execution_count": 16,
     "metadata": {},
     "output_type": "execute_result"
    }
   ],
   "source": [
    "clean_search['Company'].value_counts().nlargest(10)"
   ]
  },
  {
   "cell_type": "markdown",
   "metadata": {},
   "source": [
    "WANTS:\n",
    "Channel\n",
    "Previous Job Search Data\n",
    "ATS Applied With\n",
    "Activity Dates\n",
    "\n",
    "CHALLENGES:\n",
    "Uniform interview process"
   ]
  }
 ],
 "metadata": {
  "kernelspec": {
   "display_name": "Python 3",
   "language": "python",
   "name": "python3"
  },
  "language_info": {
   "codemirror_mode": {
    "name": "ipython",
    "version": 3
   },
   "file_extension": ".py",
   "mimetype": "text/x-python",
   "name": "python",
   "nbconvert_exporter": "python",
   "pygments_lexer": "ipython3",
   "version": "3.6.4"
  }
 },
 "nbformat": 4,
 "nbformat_minor": 2
}
